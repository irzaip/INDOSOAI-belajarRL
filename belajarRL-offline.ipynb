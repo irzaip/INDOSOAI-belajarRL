{
 "cells": [
  {
   "cell_type": "markdown",
   "metadata": {
    "colab_type": "text",
    "id": "AOgCJ_6tGFgC"
   },
   "source": [
    "## **Referensi**\n",
    "\n",
    " \n",
    "\n",
    "*   Open AI website (https://openai.com)\n",
    "*   Lingkungan GYM (http://gym.openai.com/envs/#classic_control)\n",
    "*   School of AI - Minggu 8 - Reinforcement Learning (https://eliademy.com/app/a/courses/0b3fcfb4bf)\n",
    "*   Video penjelasan (https://youtu.be/dhFNPQwCEa4)\n",
    "\n"
   ]
  },
  {
   "cell_type": "markdown",
   "metadata": {
    "colab_type": "text",
    "id": "odNaDE1zyrL2"
   },
   "source": [
    "### install dependencies\n",
    "\n",
    "Buat Rendering\n",
    "\n"
   ]
  },
  {
   "cell_type": "code",
   "execution_count": null,
   "metadata": {},
   "outputs": [],
   "source": [
    "#remove \" > /dev/null 2>&1\" to see what is going on under the hood\n",
    "!pip install gym pyvirtualdisplay > /dev/null 2>&1\n",
    "!apt-get install -y xvfb python-opengl ffmpeg > /dev/null 2>&1"
   ]
  },
  {
   "cell_type": "code",
   "execution_count": null,
   "metadata": {
    "colab": {},
    "colab_type": "code",
    "id": "8-AxnvAVyzQQ"
   },
   "outputs": [],
   "source": [
    "#remove \" > /dev/null 2>&1\" to see what is going on under the hood\n",
    "!pip install gym pyvirtualdisplay > /dev/null 2>&1\n",
    "!apt-get install -y xvfb python-opengl ffmpeg > /dev/null 2>&1"
   ]
  },
  {
   "cell_type": "markdown",
   "metadata": {
    "colab_type": "text",
    "id": "8A-1LTSH88EE"
   },
   "source": [
    "### ATARI Dependancies"
   ]
  },
  {
   "cell_type": "code",
   "execution_count": null,
   "metadata": {
    "colab": {},
    "colab_type": "code",
    "id": "TCelFzWY9MBI"
   },
   "outputs": [],
   "source": [
    "!apt-get update > /dev/null 2>&1\n",
    "!apt-get install cmake > /dev/null 2>&1\n",
    "!pip install --upgrade setuptools 2>&1\n",
    "!pip install ez_setup > /dev/null 2>&1\n",
    "!pip install gym[atari] > /dev/null 2>&1"
   ]
  },
  {
   "cell_type": "markdown",
   "metadata": {
    "colab_type": "text",
    "id": "APXSx7hg19TH"
   },
   "source": [
    "## Import Library"
   ]
  },
  {
   "cell_type": "code",
   "execution_count": null,
   "metadata": {
    "colab": {},
    "colab_type": "code",
    "id": "pdb2JwZy4jGj"
   },
   "outputs": [],
   "source": [
    "import gym\n",
    "from gym import logger as gymlogger\n",
    "from gym.wrappers import Monitor\n",
    "gymlogger.set_level(40) #error only\n",
    "import tensorflow as tf\n",
    "import numpy as np\n",
    "import random\n",
    "import matplotlib.pyplot as plt\n",
    "%matplotlib inline\n",
    "import math\n",
    "import glob\n",
    "import io\n",
    "import base64\n",
    "from IPython.display import HTML\n",
    "from statistics import mean,median\n",
    "from collections import Counter\n",
    "import keras\n",
    "from IPython import display as ipythondisplay"
   ]
  },
  {
   "cell_type": "code",
   "execution_count": null,
   "metadata": {
    "colab": {},
    "colab_type": "code",
    "id": "nQEtc28G4niA"
   },
   "outputs": [],
   "source": [
    "from pyvirtualdisplay import Display\n",
    "display = Display(visible=0, size=(1400, 900))\n",
    "display.start()"
   ]
  },
  {
   "cell_type": "code",
   "execution_count": null,
   "metadata": {
    "colab": {},
    "colab_type": "code",
    "id": "G9UWeToN4r7D"
   },
   "outputs": [],
   "source": [
    "\"\"\"\n",
    "Utility functions to enable video recording of gym environment and displaying it\n",
    "To enable video, just do \"env = wrap_env(env)\"\"\n",
    "\"\"\"\n",
    "\n",
    "def show_video():\n",
    "  mp4list = glob.glob('video/*.mp4')\n",
    "  if len(mp4list) > 0:\n",
    "    mp4 = mp4list[0]\n",
    "    video = io.open(mp4, 'r+b').read()\n",
    "    encoded = base64.b64encode(video)\n",
    "    ipythondisplay.display(HTML(data='''<video alt=\"test\" autoplay \n",
    "                loop controls style=\"height: 400px;\">\n",
    "                <source src=\"data:video/mp4;base64,{0}\" type=\"video/mp4\" />\n",
    "             </video>'''.format(encoded.decode('ascii'))))\n",
    "  else: \n",
    "    print(\"Could not find video\")\n",
    "    \n",
    "\n",
    "def wrap_env(env):\n",
    "  env = Monitor(env, './video', force=True)\n",
    "  return env"
   ]
  },
  {
   "cell_type": "markdown",
   "metadata": {
    "colab_type": "text",
    "id": "W3BGbWOu179M"
   },
   "source": [
    "# Mencoba Game!"
   ]
  },
  {
   "cell_type": "code",
   "execution_count": null,
   "metadata": {
    "colab": {},
    "colab_type": "code",
    "id": "dGEFMfDOzLen"
   },
   "outputs": [],
   "source": [
    "env = wrap_env(gym.make(\"CartPole-v1\"))"
   ]
  },
  {
   "cell_type": "code",
   "execution_count": null,
   "metadata": {
    "colab": {},
    "colab_type": "code",
    "id": "7BmIlXhe9Q89"
   },
   "outputs": [],
   "source": [
    "#check out the pacman action space!\n",
    "print(env.action_space)"
   ]
  },
  {
   "cell_type": "code",
   "execution_count": null,
   "metadata": {
    "colab": {},
    "colab_type": "code",
    "id": "3tuAn1MRv-y1"
   },
   "outputs": [],
   "source": [
    "observation = env.reset()\n",
    "\n",
    "while True:\n",
    "  \n",
    "    env.render()\n",
    "    \n",
    "    #disini agent\n",
    "    action = env.action_space.sample() \n",
    "         \n",
    "    observation, reward, done, info = env.step(action) \n",
    "    print(observation,reward,done,info)\n",
    "        \n",
    "    if done: \n",
    "      break;\n",
    "            \n",
    "env.close()\n",
    "show_video()"
   ]
  },
  {
   "cell_type": "markdown",
   "metadata": {
    "colab_type": "text",
    "id": "MHaIIbAVpTFI"
   },
   "source": [
    "## Membuat simulasi awal"
   ]
  },
  {
   "cell_type": "code",
   "execution_count": null,
   "metadata": {
    "colab": {},
    "colab_type": "code",
    "id": "68_UnSqLvD4O"
   },
   "outputs": [],
   "source": [
    "import random\n",
    "goal_step = 500\n",
    "score_min = 60\n",
    "iterasi = 10000\n",
    "training_data = []\n",
    "scores = []\n",
    "accepted_scores = []\n",
    "\n",
    "env = wrap_env(gym.make(\"CartPole-v1\"))\n",
    "\n",
    "for _ in range(iterasi):\n",
    "    score = 0\n",
    "    game_memory = []\n",
    "    prev_observation = []\n",
    "    \n",
    "    env.reset()\n",
    "    for t in range(goal_step):\n",
    "      #env.render()\n",
    "      \n",
    "      action = random.randrange(0,2)\n",
    "      observation, reward, done, info = env.step(action) \n",
    "      \n",
    "      if len(prev_observation) > 0:\n",
    "        game_memory.append([prev_observation, action])\n",
    "        \n",
    "      prev_observation = observation\n",
    "      score += reward\n",
    "      \n",
    "      if done:\n",
    "        break;\n",
    "\n",
    "    if score >= score_min:\n",
    "      accepted_scores.append(score)\n",
    "      for data in game_memory:\n",
    "        if data[1] == 1:\n",
    "          output = [0,1]\n",
    "        \n",
    "        elif data[1] == 0:\n",
    "          output = [1,0]\n",
    "        \n",
    "        training_data.append([data[0], output])\n",
    "    \n",
    "    env.reset()\n",
    "    scores.append(score)\n",
    "    \n",
    "training_data_save = np.array(training_data)\n",
    "np.save('saved.npy', training_data_save)\n",
    "  \n",
    "print('average accepted score',mean(accepted_scores))\n",
    "print('Median accepted score', median(accepted_scores))\n",
    "print(Counter(accepted_scores))\n",
    "  \n",
    "      \n",
    "env.close()\n",
    "#show_video()\n",
    "\n",
    "print(\"Panjang data training:\" , len(training_data))"
   ]
  },
  {
   "cell_type": "markdown",
   "metadata": {
    "colab_type": "text",
    "id": "Nf24qbQv6LGz"
   },
   "source": [
    "## TRAINING JARINGAN SYARAF TIRUAN - OFFLINE"
   ]
  },
  {
   "cell_type": "code",
   "execution_count": null,
   "metadata": {
    "colab": {},
    "colab_type": "code",
    "id": "JrwUqqQm6Pex"
   },
   "outputs": [],
   "source": [
    "def build_model(input_size, output_size):\n",
    "    model = keras.models.Sequential()\n",
    "    model.add(keras.layers.Dense(128, input_dim=input_size, activation='relu'))\n",
    "    model.add(keras.layers.Dropout(0.2))\n",
    "    model.add(keras.layers.Dense(256, activation='relu'))\n",
    "    model.add(keras.layers.Dropout(0.2))\n",
    "    model.add(keras.layers.Dense(512, activation='relu'))\n",
    "    model.add(keras.layers.Dropout(0.2))\n",
    "    model.add(keras.layers.Dense(256, activation='relu'))\n",
    "    model.add(keras.layers.Dropout(0.2))\n",
    "    model.add(keras.layers.Dense(128, activation='relu'))\n",
    "    model.add(keras.layers.Dense(output_size, activation='linear'))\n",
    "    model.compile(loss='mse', optimizer=keras.optimizers.Adam())\n",
    "    return model"
   ]
  },
  {
   "cell_type": "code",
   "execution_count": null,
   "metadata": {
    "colab": {},
    "colab_type": "code",
    "id": "ulVgirpQ9L8T"
   },
   "outputs": [],
   "source": [
    "def train_model(training_data):\n",
    "    X = np.array([i[0] for i in training_data]).reshape(-1, len(training_data[0][0]))\n",
    "    y = np.array([i[1] for i in training_data]).reshape(-1, len(training_data[0][1]))\n",
    "    model = build_model(input_size=len(X[0]), output_size=len(y[0]))\n",
    "    \n",
    "    model.fit(X, y, epochs=14)\n",
    "    return model"
   ]
  },
  {
   "cell_type": "code",
   "execution_count": null,
   "metadata": {
    "colab": {},
    "colab_type": "code",
    "id": "5IcdhlJi9yBj"
   },
   "outputs": [],
   "source": [
    "%%time\n",
    "tmodel = train_model(training_data)"
   ]
  },
  {
   "cell_type": "markdown",
   "metadata": {
    "colab_type": "text",
    "id": "dILGdCvP_64-"
   },
   "source": [
    "## GUNAKAN MODEL DI GAME"
   ]
  },
  {
   "cell_type": "code",
   "execution_count": null,
   "metadata": {
    "colab": {},
    "colab_type": "code",
    "id": "mweQyPPe_9SQ"
   },
   "outputs": [],
   "source": [
    "iterasi = 10\n",
    "scores = []\n",
    "accepted_scores = []\n",
    "choices = []\n",
    "\n",
    "env = wrap_env(gym.make(\"CartPole-v1\"))\n",
    "\n",
    "for _ in range(iterasi):\n",
    "    score = 0\n",
    "    game_memory = []\n",
    "    prev_observation = []\n",
    "    \n",
    "    env.reset()\n",
    "    for t in range(goal_step):\n",
    "      env.render()\n",
    "      \n",
    "      if len(prev_observation) == 0:\n",
    "        action = random.randrange(0,2)\n",
    "      else:\n",
    "        action = np.argmax(tmodel.predict(prev_observation.reshape(-1,len(prev_observation)))[0])\n",
    "        \n",
    "      choices.append(action)\n",
    "      \n",
    "      new_observation, reward, done, info = env.step(action) \n",
    "      prev_observation = new_observation\n",
    "      score += reward\n",
    "      \n",
    "      if done:\n",
    "        break;\n",
    "    \n",
    "    if score > 150:\n",
    "        #FIX THIS TO CLOSE NOT RESET\n",
    "        env.close()\n",
    "        print(\"This game score:\",score)\n",
    "        show_video()\n",
    "        break\n",
    "    \n",
    "    scores.append(score)\n",
    "  \n",
    "print('average accepted score',mean(scores))\n",
    "print('Median accepted score', median(scores))\n",
    "print(Counter(choices))\n",
    "  \n",
    "      \n",
    "#env.close()\n",
    "#show_video()"
   ]
  },
  {
   "cell_type": "code",
   "execution_count": null,
   "metadata": {
    "colab": {},
    "colab_type": "code",
    "id": "hiIzlN5KBx8g"
   },
   "outputs": [],
   "source": []
  },
  {
   "cell_type": "code",
   "execution_count": null,
   "metadata": {
    "colab": {},
    "colab_type": "code",
    "id": "Y0ZhOVQjheuR"
   },
   "outputs": [],
   "source": []
  }
 ],
 "metadata": {
  "colab": {
   "collapsed_sections": [],
   "name": "Salinan dari OpenAiGym_Colab.ipynb",
   "private_outputs": true,
   "provenance": [],
   "version": "0.3.2"
  },
  "kernelspec": {
   "display_name": "Python 3",
   "language": "python",
   "name": "python3"
  },
  "language_info": {
   "codemirror_mode": {
    "name": "ipython",
    "version": 3
   },
   "file_extension": ".py",
   "mimetype": "text/x-python",
   "name": "python",
   "nbconvert_exporter": "python",
   "pygments_lexer": "ipython3",
   "version": "3.6.4"
  }
 },
 "nbformat": 4,
 "nbformat_minor": 1
}
